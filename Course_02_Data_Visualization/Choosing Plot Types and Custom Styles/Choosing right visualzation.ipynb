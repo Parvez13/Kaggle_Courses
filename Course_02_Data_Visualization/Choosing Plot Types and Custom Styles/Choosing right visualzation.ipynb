{
 "cells": [
  {
   "cell_type": "markdown",
   "id": "a2bd8d35",
   "metadata": {},
   "source": [
    "Since it's not always easy to decide how to best tell the story behind your data, we've broken the chart types into three broad categories to help with this.\n",
    "\n",
    "* **Trends** - A trend is defined as a pattern of change.\n",
    "   * `sns.lineplot` - Line charts are best to show trends over a period of time, and multiple lines                         can be used to show trends in more than one group.\n",
    "   \n",
    "* **Relationship** - There are many different chart types that you can use to understand relationships between variables in your data.\n",
    "    * `sns.barplo`t - Bar charts are useful for comparing quantities corresponding to different groups.\n",
    "    * `sns.heatmap` - Heatmaps can be used to find color-coded patterns in tables of numbers.\n",
    "    * `sns.scatterplot` - Scatter plots show the relationship between two continuous variables; if color-coded, we can also show the relationship with a third categorical variable.\n",
    "    * `sns.regplot` - Including a regression line in the scatter plot makes it easier to see any linear relationship between two variables.\n",
    "    * `sns.lmplot` - This command is useful for drawing multiple regression lines, if the scatter plot contains multiple, color-coded groups.\n",
    "    * `sns.swarmplot` - Categorical scatter plots show the relationship between a continuous variable and a categorical variable.\n",
    "\n",
    "* **Distribution** - We visualize distributions to show the possible values that we can expect to see in a variable, along with how likely they are.\n",
    "    * `sns.distplot` - Histograms show the distribution of a single numerical variable.\n",
    "    * `sns.kdeplot` - KDE plots (or 2D KDE plots) show an estimated, smooth distribution of a single numerical variable (or two numerical variables).\n",
    "    * `sns.jointplot` - This command is useful for simultaneously displaying a 2D KDE plot with the corresponding KDE plots for each individual variable"
   ]
  },
  {
   "cell_type": "code",
   "execution_count": null,
   "id": "7f151b00",
   "metadata": {},
   "outputs": [],
   "source": []
  }
 ],
 "metadata": {
  "kernelspec": {
   "display_name": "Python 3 (ipykernel)",
   "language": "python",
   "name": "python3"
  },
  "language_info": {
   "codemirror_mode": {
    "name": "ipython",
    "version": 3
   },
   "file_extension": ".py",
   "mimetype": "text/x-python",
   "name": "python",
   "nbconvert_exporter": "python",
   "pygments_lexer": "ipython3",
   "version": "3.9.7"
  }
 },
 "nbformat": 4,
 "nbformat_minor": 5
}
